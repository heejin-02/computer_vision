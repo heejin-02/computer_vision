{
  "nbformat": 4,
  "nbformat_minor": 0,
  "metadata": {
    "colab": {
      "provenance": [],
      "toc_visible": true,
      "authorship_tag": "ABX9TyPJ0gqbtqyvLdIqDXTcWKzt",
      "include_colab_link": true
    },
    "kernelspec": {
      "name": "python3",
      "display_name": "Python 3"
    },
    "language_info": {
      "name": "python"
    }
  },
  "cells": [
    {
      "cell_type": "markdown",
      "metadata": {
        "id": "view-in-github",
        "colab_type": "text"
      },
      "source": [
        "<a href=\"https://colab.research.google.com/github/heejin-02/computer_vision/blob/main/ex02_MLP%ED%95%99%EC%8A%B5.ipynb\" target=\"_parent\"><img src=\"https://colab.research.google.com/assets/colab-badge.svg\" alt=\"Open In Colab\"/></a>"
      ]
    },
    {
      "cell_type": "code",
      "execution_count": 2,
      "metadata": {
        "id": "gMrGCPBuq_UD"
      },
      "outputs": [],
      "source": [
        "import torch\n",
        "import torch.nn as nn\n",
        "import torch.optim as optim\n",
        "import torchvision.datasets as dset\n",
        "import torchvision.transforms as transforms\n",
        "from torch.utils.data import DataLoader\n",
        "from torch.autograd import Variable\n",
        "import matplotlib.pyplot as plt\n",
        "%matplotlib inline\n",
        "import numpy as np"
      ]
    },
    {
      "cell_type": "code",
      "source": [
        "mnist_train=dset.MNIST(\"\",train=True,transform=transforms.ToTensor(),\n",
        "                       target_transform=None,download=True)\n",
        "mnist_test=dset.MNIST(\"\",train=False,transform=transforms.ToTensor(),\n",
        "                      target_transform=None,download=True)"
      ],
      "metadata": {
        "colab": {
          "base_uri": "https://localhost:8080/"
        },
        "id": "kyc8rK9FrtmB",
        "outputId": "e3962598-f728-4ac5-b1cd-75c4b2673116"
      },
      "execution_count": 3,
      "outputs": [
        {
          "output_type": "stream",
          "name": "stdout",
          "text": [
            "Downloading http://yann.lecun.com/exdb/mnist/train-images-idx3-ubyte.gz\n",
            "Failed to download (trying next):\n",
            "HTTP Error 403: Forbidden\n",
            "\n",
            "Downloading https://ossci-datasets.s3.amazonaws.com/mnist/train-images-idx3-ubyte.gz\n",
            "Downloading https://ossci-datasets.s3.amazonaws.com/mnist/train-images-idx3-ubyte.gz to MNIST/raw/train-images-idx3-ubyte.gz\n"
          ]
        },
        {
          "output_type": "stream",
          "name": "stderr",
          "text": [
            "100%|██████████| 9912422/9912422 [00:00<00:00, 17269268.14it/s]\n"
          ]
        },
        {
          "output_type": "stream",
          "name": "stdout",
          "text": [
            "Extracting MNIST/raw/train-images-idx3-ubyte.gz to MNIST/raw\n",
            "\n",
            "Downloading http://yann.lecun.com/exdb/mnist/train-labels-idx1-ubyte.gz\n",
            "Failed to download (trying next):\n",
            "HTTP Error 403: Forbidden\n",
            "\n",
            "Downloading https://ossci-datasets.s3.amazonaws.com/mnist/train-labels-idx1-ubyte.gz\n",
            "Downloading https://ossci-datasets.s3.amazonaws.com/mnist/train-labels-idx1-ubyte.gz to MNIST/raw/train-labels-idx1-ubyte.gz\n"
          ]
        },
        {
          "output_type": "stream",
          "name": "stderr",
          "text": [
            "100%|██████████| 28881/28881 [00:00<00:00, 1615638.05it/s]\n"
          ]
        },
        {
          "output_type": "stream",
          "name": "stdout",
          "text": [
            "Extracting MNIST/raw/train-labels-idx1-ubyte.gz to MNIST/raw\n",
            "\n",
            "Downloading http://yann.lecun.com/exdb/mnist/t10k-images-idx3-ubyte.gz\n",
            "Failed to download (trying next):\n",
            "HTTP Error 403: Forbidden\n",
            "\n",
            "Downloading https://ossci-datasets.s3.amazonaws.com/mnist/t10k-images-idx3-ubyte.gz\n",
            "Downloading https://ossci-datasets.s3.amazonaws.com/mnist/t10k-images-idx3-ubyte.gz to MNIST/raw/t10k-images-idx3-ubyte.gz\n"
          ]
        },
        {
          "output_type": "stream",
          "name": "stderr",
          "text": [
            "100%|██████████| 1648877/1648877 [00:00<00:00, 3932155.83it/s]\n"
          ]
        },
        {
          "output_type": "stream",
          "name": "stdout",
          "text": [
            "Extracting MNIST/raw/t10k-images-idx3-ubyte.gz to MNIST/raw\n",
            "\n",
            "Downloading http://yann.lecun.com/exdb/mnist/t10k-labels-idx1-ubyte.gz\n",
            "Failed to download (trying next):\n",
            "HTTP Error 403: Forbidden\n",
            "\n",
            "Downloading https://ossci-datasets.s3.amazonaws.com/mnist/t10k-labels-idx1-ubyte.gz\n",
            "Downloading https://ossci-datasets.s3.amazonaws.com/mnist/t10k-labels-idx1-ubyte.gz to MNIST/raw/t10k-labels-idx1-ubyte.gz\n"
          ]
        },
        {
          "output_type": "stream",
          "name": "stderr",
          "text": [
            "100%|██████████| 4542/4542 [00:00<00:00, 2562966.33it/s]"
          ]
        },
        {
          "output_type": "stream",
          "name": "stdout",
          "text": [
            "Extracting MNIST/raw/t10k-labels-idx1-ubyte.gz to MNIST/raw\n",
            "\n"
          ]
        },
        {
          "output_type": "stream",
          "name": "stderr",
          "text": [
            "\n"
          ]
        }
      ]
    },
    {
      "cell_type": "code",
      "source": [
        "print(\"mnist_train 길이:\",len(mnist_train))\n",
        "print(\"mnist_test 길이:\",len(mnist_test))\n",
        "\n",
        "#데이터 하나 형태\n",
        "image,label = mnist_train.__getitem__(0)\n",
        "print(\"image data 형태:\",image.size())\n",
        "print(\"label:\",label)\n",
        "\n",
        "#그리기\n",
        "img = image.numpy() #image타입을 numpy로 변환(1,28,28)\n",
        "plt.title(\"label:%d\" %label)\n",
        "plt.imshow(img[0],cmap='gray')\n",
        "plt.show()"
      ],
      "metadata": {
        "colab": {
          "base_uri": "https://localhost:8080/",
          "height": 525
        },
        "id": "HEdAQH6isHzx",
        "outputId": "1ee216ed-fb88-4401-bc2c-aa14d2d4a435"
      },
      "execution_count": 4,
      "outputs": [
        {
          "output_type": "stream",
          "name": "stdout",
          "text": [
            "mnist_train 길이: 60000\n",
            "mnist_test 길이: 10000\n",
            "image data 형태: torch.Size([1, 28, 28])\n",
            "label: 5\n"
          ]
        },
        {
          "output_type": "display_data",
          "data": {
            "text/plain": [
              "<Figure size 640x480 with 1 Axes>"
            ],
            "image/png": "[encoded data removed]"
          },
          "metadata": {}
        }
      ]
    },
    {
      "cell_type": "code",
      "source": [
        "batch_size = 1024\n",
        "learning_rate=0.01\n",
        "num_epoch=400"
      ],
      "metadata": {
        "id": "2X4RsIajtGZh"
      },
      "execution_count": 5,
      "outputs": []
    },
    {
      "cell_type": "code",
      "source": [
        "train_loader = torch.utils.data.DataLoader(mnist_train,\n",
        "                                           batch_size =batch_size,\n",
        "                                           shuffle=True, num_workers=2,\n",
        "                                           drop_last=True)\n",
        "test_loader= torch.utils.data.DataLoader(mnist_test,batch_size=batch_size,\n",
        "                                         shuffle=False,num_workers=2,\n",
        "                                         drop_last=True)"
      ],
      "metadata": {
        "id": "lOy7WY7gtMQN"
      },
      "execution_count": 6,
      "outputs": []
    },
    {
      "cell_type": "code",
      "source": [
        "n=3\n",
        "for i, [imgs,labels] in enumerate(test_loader):\n",
        "  if i>5:\n",
        "      break\n",
        "\n",
        "  print(\"[%d]\" %i)\n",
        "  print(\"한 번에 로드되는 데이터 크기:\",len(imgs))\n",
        "\n",
        "    #그리기\n",
        "  for j in range(n):\n",
        "    img = imgs[j].numpy()\n",
        "    img = img.reshape((img.shape[1], img.shape[2]))\n",
        "\n",
        "    plt.subplot(1,n,j+1)\n",
        "    plt.imshow(img,cmap='gray')\n",
        "    plt.title(\"label:%d\" %labels[j])\n",
        "  plt.show()"
      ],
      "metadata": {
        "colab": {
          "base_uri": "https://localhost:8080/",
          "height": 1000
        },
        "id": "ZZH79lWNthX4",
        "outputId": "57934856-0aa7-437c-8e7e-c048fc1ed69f"
      },
      "execution_count": 9,
      "outputs": [
        {
          "output_type": "stream",
          "name": "stdout",
          "text": [
            "[0]\n",
            "한 번에 로드되는 데이터 크기: 1024\n"
          ]
        },
        {
          "output_type": "display_data",
          "data": {
            "text/plain": [
              "<Figure size 640x480 with 3 Axes>"
            ],
            "image/png": "[encoded data removed]"
          },
          "metadata": {}
        },
        {
          "output_type": "stream",
          "name": "stdout",
          "text": [
            "[1]\n",
            "한 번에 로드되는 데이터 크기: 1024\n"
          ]
        },
        {
          "output_type": "display_data",
          "data": {
            "text/plain": [
              "<Figure size 640x480 with 3 Axes>"
            ],
            "image/png": "[encoded data removed]"
          },
          "metadata": {}
        },
        {
          "output_type": "stream",
          "name": "stdout",
          "text": [
            "[2]\n",
            "한 번에 로드되는 데이터 크기: 1024\n"
          ]
        },
        {
          "output_type": "display_data",
          "data": {
            "text/plain": [
              "<Figure size 640x480 with 3 Axes>"
            ],
            "image/png": "[encoded data removed]"
          },
          "metadata": {}
        },
        {
          "output_type": "stream",
          "name": "stdout",
          "text": [
            "[3]\n",
            "한 번에 로드되는 데이터 크기: 1024\n"
          ]
        },
        {
          "output_type": "display_data",
          "data": {
            "text/plain": [
              "<Figure size 640x480 with 3 Axes>"
            ],
            "image/png": "[encoded data removed]"
          },
          "metadata": {}
        },
        {
          "output_type": "stream",
          "name": "stdout",
          "text": [
            "[4]\n",
            "한 번에 로드되는 데이터 크기: 1024\n"
          ]
        },
        {
          "output_type": "display_data",
          "data": {
            "text/plain": [
              "<Figure size 640x480 with 3 Axes>"
            ],
            "image/png": "[encoded data removed]"
          },
          "metadata": {}
        },
        {
          "output_type": "stream",
          "name": "stdout",
          "text": [
            "[5]\n",
            "한 번에 로드되는 데이터 크기: 1024\n"
          ]
        },
        {
          "output_type": "display_data",
          "data": {
            "text/plain": [
              "<Figure size 640x480 with 3 Axes>"
            ],
            "image/png": "[encoded data removed]"
          },
          "metadata": {}
        }
      ]
    },
    {
      "cell_type": "code",
      "source": [
        "#모델 선언\n",
        "#퍼셉트론(2 hidden layer) *\n",
        "model = nn.Sequential(\n",
        "    nn.Linear(28*28,256),\n",
        "    nn.Sigmoid(),\n",
        "    nn.Linear(256,128),\n",
        "    nn.Linear(128,10),\n",
        ")\n",
        "#파라미터 보기\n",
        "#print(list(mdel.parameters()))"
      ],
      "metadata": {
        "id": "Bk4vD38Z1zLn"
      },
      "execution_count": 10,
      "outputs": []
    },
    {
      "cell_type": "code",
      "source": [
        "#model = model.cuda()"
      ],
      "metadata": {
        "id": "1vf2hpkI2aUT"
      },
      "execution_count": null,
      "outputs": []
    },
    {
      "cell_type": "code",
      "source": [
        "def ComputeAccr(dloader,imodel):\n",
        "  correct = 0\n",
        "  total = 0\n",
        "\n",
        "  for j, [imgs,labels] in enumerate(dloader):\n",
        "    img = imgs # x\n",
        "    label = Variable(labels)\n",
        "    #label = Variable(labels).cuda()\n",
        "    #.cuda() : GPU에 로드되기 위함. 만약 CPU로 설정되어 있다면 에러남\n",
        "\n",
        "    #(batch_size 1,28,28) -> (batch_size, 28,28)\n",
        "    img = img.reshape((img.shape[0],img.shape[2],img.shape[3]))\n",
        "    #(batch_size,28,28) -> (batch_size, 28*28)\n",
        "    img = img.reshape((img.shape[0], img.shape[1]*img.shape[2]))\n",
        "    img = Variable(img, requires_grad=False)\n",
        "    #img = Variable(img,requires_grad=False).cuda()\n",
        "\n",
        "    output = imodel(img)\n",
        "    _, output_index = torch.max(output,1)\n",
        "\n",
        "    total += label.size(0)\n",
        "    correct += (output_index == label).sum().float()\n",
        "  print(\"Accuracy of Test Data:{}\".format(100*correct/total))"
      ],
      "metadata": {
        "id": "yZv0Mk3S2fip"
      },
      "execution_count": 12,
      "outputs": []
    },
    {
      "cell_type": "code",
      "source": [
        "ComputeAccr(test_loader,model)"
      ],
      "metadata": {
        "colab": {
          "base_uri": "https://localhost:8080/"
        },
        "id": "vz5Hs1X44sdI",
        "outputId": "ef43a85a-24bb-456b-d9e3-6e1f7d68ee8d"
      },
      "execution_count": 13,
      "outputs": [
        {
          "output_type": "stream",
          "name": "stdout",
          "text": [
            "Accuracy of Test Data:10.08029556274414\n"
          ]
        }
      ]
    },
    {
      "cell_type": "code",
      "source": [
        "loss_func = nn.CrossEntropyLoss()\n",
        "optimizer = optim.SGD(model.parameters(),lr=learning_rate)"
      ],
      "metadata": {
        "id": "7W9o7J8z407f"
      },
      "execution_count": 14,
      "outputs": []
    },
    {
      "cell_type": "code",
      "source": [
        "num_epoch=400\n",
        "for i in range(num_epoch):\n",
        "  for j, [imgs, labels] in enumerate(train_loader):\n",
        "    img = imgs\n",
        "    label = Variable(labels)\n",
        "    #label = Variable(labels).cuda() #batch_size\n",
        "\n",
        "    #(batch_size 1,28,28) -> (batch_size 28, 28)\n",
        "    img = img.reshape((img.shape[0], img.shape[2],img.shape[3]))\n",
        "    #(batch_size, 28, 28) -> (batch_size 28*28)\n",
        "    img = img.reshape((img.shape[0], img.shape[1]*img.shape[2]))\n",
        "    img = Variable(img, requires_grad=True)\n",
        "    #img = Variable(img,requires_grad=True).cuda()\n",
        "\n",
        "    optimizer.zero_grad()\n",
        "    output = model(img)\n",
        "    loss = loss_func(output,label)\n",
        "\n",
        "    loss.backward()\n",
        "    optimizer.step()\n",
        "\n",
        "  if i%50==0:\n",
        "    print(\"%d..\" %i)\n",
        "    ComputeAccr(test_loader,model)\n",
        "    print(loss)"
      ],
      "metadata": {
        "colab": {
          "base_uri": "https://localhost:8080/"
        },
        "id": "SklS9O4-5cUa",
        "outputId": "59568200-f56a-4544-bb70-944fe05e5fd0"
      },
      "execution_count": 15,
      "outputs": [
        {
          "output_type": "stream",
          "name": "stdout",
          "text": [
            "0..\n",
            "Accuracy of Test Data:11.295573234558105\n",
            "tensor(2.2922, grad_fn=<NllLossBackward0>)\n",
            "50..\n",
            "Accuracy of Test Data:81.41275787353516\n",
            "tensor(0.6675, grad_fn=<NllLossBackward0>)\n",
            "100..\n",
            "Accuracy of Test Data:88.05338287353516\n",
            "tensor(0.4270, grad_fn=<NllLossBackward0>)\n",
            "150..\n",
            "Accuracy of Test Data:89.77864837646484\n",
            "tensor(0.3772, grad_fn=<NllLossBackward0>)\n",
            "200..\n",
            "Accuracy of Test Data:90.64669799804688\n",
            "tensor(0.3383, grad_fn=<NllLossBackward0>)\n",
            "250..\n",
            "Accuracy of Test Data:91.20008850097656\n",
            "tensor(0.3657, grad_fn=<NllLossBackward0>)\n",
            "300..\n",
            "Accuracy of Test Data:91.52560424804688\n",
            "tensor(0.3329, grad_fn=<NllLossBackward0>)\n",
            "350..\n",
            "Accuracy of Test Data:91.81857299804688\n",
            "tensor(0.3396, grad_fn=<NllLossBackward0>)\n"
          ]
        }
      ]
    },
    {
      "cell_type": "code",
      "source": [
        "ComputeAccr(test_loader,model)"
      ],
      "metadata": {
        "colab": {
          "base_uri": "https://localhost:8080/"
        },
        "id": "yVkcqXBCINSL",
        "outputId": "b368cd38-03e8-4966-d48e-1ade95618cc7"
      },
      "execution_count": 16,
      "outputs": [
        {
          "output_type": "stream",
          "name": "stdout",
          "text": [
            "Accuracy of Test Data:92.04644012451172\n"
          ]
        }
      ]
    },
    {
      "cell_type": "code",
      "source": [
        "netname = './nets/mlp_weight.pkl'\n",
        "torch.save(model,netname, )\n",
        "\n",
        "#model = torch.load(netname)"
      ],
      "metadata": {
        "id": "Wkf7QTz8Iab-"
      },
      "execution_count": 18,
      "outputs": []
    }
  ]
}